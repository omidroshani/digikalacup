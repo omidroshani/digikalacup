{
 "cells": [
  {
   "cell_type": "code",
   "execution_count": 13,
   "metadata": {},
   "outputs": [],
   "source": [
    "import cv2\n",
    "import numpy as np\n",
    "import colorgram"
   ]
  },
  {
   "cell_type": "code",
   "execution_count": 8,
   "metadata": {},
   "outputs": [],
   "source": [
    "from glob2 import glob\n",
    "folders = [ i for i in glob(\"data-q4/train/*\")]\n",
    "\n",
    "data =  {i : [j for j in glob(i + \"/*\")]  for i in folders}\n",
    "\n",
    "import os\n",
    "import pandas as pd \n",
    "data2 = []\n",
    "for key,value in data.items() :\n",
    "    for j in value :\n",
    "        data2.append([j , os.path.basename(key)])\n",
    "\n",
    "df = pd.DataFrame(data2 , columns = ['path' , 'class'])"
   ]
  },
  {
   "cell_type": "code",
   "execution_count": 9,
   "metadata": {},
   "outputs": [],
   "source": [
    "categories =  {'pink' : 1 , 'purple' : 2 , 'yellow' : 3 , 'orange' : 4 , 'white' : 5 , 'silver' : 6 , 'grey' : 7 , 'black' : 8 , 'red' : 9 , 'brown' : 10 , 'green' : 11 , 'blue' : 12 }"
   ]
  },
  {
   "cell_type": "code",
   "execution_count": 10,
   "metadata": {},
   "outputs": [],
   "source": [
    "df.columns = [\"file\", \"label\"]"
   ]
  },
  {
   "cell_type": "code",
   "execution_count": 11,
   "metadata": {},
   "outputs": [
    {
     "data": {
      "text/html": [
       "<div>\n",
       "<style scoped>\n",
       "    .dataframe tbody tr th:only-of-type {\n",
       "        vertical-align: middle;\n",
       "    }\n",
       "\n",
       "    .dataframe tbody tr th {\n",
       "        vertical-align: top;\n",
       "    }\n",
       "\n",
       "    .dataframe thead th {\n",
       "        text-align: right;\n",
       "    }\n",
       "</style>\n",
       "<table border=\"1\" class=\"dataframe\">\n",
       "  <thead>\n",
       "    <tr style=\"text-align: right;\">\n",
       "      <th></th>\n",
       "      <th>file</th>\n",
       "      <th>label</th>\n",
       "    </tr>\n",
       "  </thead>\n",
       "  <tbody>\n",
       "    <tr>\n",
       "      <th>0</th>\n",
       "      <td>data-q4/train/yellow/117256554.jpg</td>\n",
       "      <td>yellow</td>\n",
       "    </tr>\n",
       "    <tr>\n",
       "      <th>1</th>\n",
       "      <td>data-q4/train/yellow/105771913.jpg</td>\n",
       "      <td>yellow</td>\n",
       "    </tr>\n",
       "    <tr>\n",
       "      <th>2</th>\n",
       "      <td>data-q4/train/yellow/117077312.jpg</td>\n",
       "      <td>yellow</td>\n",
       "    </tr>\n",
       "    <tr>\n",
       "      <th>3</th>\n",
       "      <td>data-q4/train/yellow/117254904.jpg</td>\n",
       "      <td>yellow</td>\n",
       "    </tr>\n",
       "    <tr>\n",
       "      <th>4</th>\n",
       "      <td>data-q4/train/yellow/117258478.jpg</td>\n",
       "      <td>yellow</td>\n",
       "    </tr>\n",
       "  </tbody>\n",
       "</table>\n",
       "</div>"
      ],
      "text/plain": [
       "                                 file   label\n",
       "0  data-q4/train/yellow/117256554.jpg  yellow\n",
       "1  data-q4/train/yellow/105771913.jpg  yellow\n",
       "2  data-q4/train/yellow/117077312.jpg  yellow\n",
       "3  data-q4/train/yellow/117254904.jpg  yellow\n",
       "4  data-q4/train/yellow/117258478.jpg  yellow"
      ]
     },
     "execution_count": 11,
     "metadata": {},
     "output_type": "execute_result"
    }
   ],
   "source": [
    "df.head()"
   ]
  },
  {
   "cell_type": "code",
   "execution_count": 75,
   "metadata": {},
   "outputs": [
    {
     "name": "stdout",
     "output_type": "stream",
     "text": [
      "100\n",
      "200\n",
      "300\n",
      "400\n",
      "500\n",
      "600\n",
      "700\n",
      "800\n",
      "900\n",
      "1000\n",
      "1100\n",
      "1200\n",
      "1300\n",
      "1400\n",
      "1500\n",
      "1600\n",
      "1700\n",
      "1800\n",
      "1900\n",
      "2000\n",
      "2100\n",
      "2200\n",
      "2300\n",
      "2400\n",
      "2500\n",
      "2600\n",
      "2700\n",
      "2800\n",
      "2900\n",
      "3000\n",
      "3100\n",
      "3200\n",
      "3300\n",
      "3400\n",
      "3500\n",
      "3600\n",
      "3700\n",
      "3800\n",
      "3900\n",
      "4000\n",
      "4100\n",
      "4200\n",
      "4300\n",
      "4400\n",
      "4500\n",
      "4600\n",
      "4700\n",
      "4800\n",
      "4900\n",
      "5000\n",
      "5100\n",
      "5200\n",
      "5300\n",
      "5400\n",
      "5500\n",
      "5600\n",
      "5700\n",
      "5800\n",
      "5900\n",
      "6000\n",
      "6100\n",
      "6200\n"
     ]
    }
   ],
   "source": [
    "import numpy as np\n",
    "\n",
    "count = 0\n",
    "images = []\n",
    "for index,row in df.iterrows() :\n",
    "    colors = colorgram.extract(row['file'], 2)\n",
    "    cols = []\n",
    "    for col in colors :\n",
    "        r,g,b = col.rgb\n",
    "        cols.extend([r,g,b,col.proportion])\n",
    "    images.append(cols)\n",
    "    count += 1\n",
    "    if count % 100 == 0 :\n",
    "        print(count)"
   ]
  },
  {
   "cell_type": "code",
   "execution_count": 78,
   "metadata": {},
   "outputs": [],
   "source": [
    "images2 = [ (i + [0] * 8)[:8] if len(i) < 8 else i for i in images]\n",
    "image3 = images2\n",
    "images2 = np.array(images2)"
   ]
  },
  {
   "cell_type": "code",
   "execution_count": 79,
   "metadata": {},
   "outputs": [],
   "source": [
    "images2 = images2.T\n",
    "\n",
    "images2[0] = images2[0] / 255.0\n",
    "images2[1] = images2[1] / 255.0\n",
    "images2[2] = images2[2] / 255.0\n",
    "\n",
    "images2[4] = images2[4] / 255.0\n",
    "images2[5] = images2[5] / 255.0\n",
    "images2[6] = images2[6] / 255.0\n",
    "\n",
    "images2 = images2.T"
   ]
  },
  {
   "cell_type": "code",
   "execution_count": 80,
   "metadata": {},
   "outputs": [
    {
     "data": {
      "text/plain": [
       "array([[0.96862745, 0.94117647, 0.81568627, ..., 0.83921569, 0.52941176,\n",
       "        0.03196057],\n",
       "       [0.99607843, 0.99607843, 0.98823529, ..., 0.87843137, 0.28235294,\n",
       "        0.38053368],\n",
       "       [0.98039216, 0.96862745, 0.9372549 , ..., 0.98431373, 0.99607843,\n",
       "        0.02534134],\n",
       "       ...,\n",
       "       [0.14509804, 0.15294118, 0.14901961, ..., 0.99607843, 0.99607843,\n",
       "        0.36653266],\n",
       "       [0.99607843, 0.99607843, 0.99215686, ..., 0.08627451, 0.07843137,\n",
       "        0.12380845],\n",
       "       [0.99607843, 0.99607843, 0.99607843, ..., 0.10980392, 0.11764706,\n",
       "        0.08236467]])"
      ]
     },
     "execution_count": 80,
     "metadata": {},
     "output_type": "execute_result"
    }
   ],
   "source": [
    "images2"
   ]
  },
  {
   "cell_type": "code",
   "execution_count": 81,
   "metadata": {},
   "outputs": [],
   "source": [
    "X = images2\n",
    "y = [ categories[i] for i in df.label.values]"
   ]
  },
  {
   "cell_type": "code",
   "execution_count": 82,
   "metadata": {},
   "outputs": [],
   "source": [
    "from sklearn.model_selection import train_test_split\n",
    "\n",
    "X_train, X_test, y_train, y_test = train_test_split( X, y, test_size=0.2, random_state=42)"
   ]
  },
  {
   "cell_type": "code",
   "execution_count": 85,
   "metadata": {},
   "outputs": [
    {
     "name": "stdout",
     "output_type": "stream",
     "text": [
      "              precision    recall  f1-score   support\n",
      "\n",
      "           1       0.64      0.57      0.60        79\n",
      "           2       0.79      0.39      0.52        70\n",
      "           3       0.85      0.84      0.85       105\n",
      "           4       0.62      0.48      0.54        64\n",
      "           5       0.56      0.88      0.69       128\n",
      "           6       0.59      0.66      0.62        65\n",
      "           7       0.64      0.60      0.62       132\n",
      "           8       0.65      0.79      0.72        68\n",
      "           9       0.85      0.71      0.77       148\n",
      "          10       0.54      0.76      0.64       136\n",
      "          11       0.66      0.47      0.55       129\n",
      "          12       0.83      0.71      0.77       124\n",
      "\n",
      "    accuracy                           0.67      1248\n",
      "   macro avg       0.69      0.65      0.66      1248\n",
      "weighted avg       0.69      0.67      0.67      1248\n",
      "\n"
     ]
    }
   ],
   "source": [
    "from sklearn.ensemble import RandomForestClassifier\n",
    "from sklearn.neural_network import MLPClassifier\n",
    "from sklearn.neighbors import KNeighborsClassifier\n",
    "\n",
    "clf = RandomForestClassifier(max_depth=10)\n",
    "clf.fit(X_train, y_train)\n",
    "\n",
    "preds = clf.predict(X_test)\n",
    "\n",
    "from sklearn.metrics import classification_report\n",
    "\n",
    "print(classification_report(y_test, preds))"
   ]
  },
  {
   "cell_type": "code",
   "execution_count": null,
   "metadata": {},
   "outputs": [],
   "source": []
  },
  {
   "cell_type": "code",
   "execution_count": null,
   "metadata": {},
   "outputs": [],
   "source": []
  },
  {
   "cell_type": "code",
   "execution_count": 7,
   "metadata": {},
   "outputs": [],
   "source": [
    "images = np.array(images)"
   ]
  },
  {
   "cell_type": "code",
   "execution_count": 8,
   "metadata": {},
   "outputs": [
    {
     "data": {
      "text/plain": [
       "(6239, 768)"
      ]
     },
     "execution_count": 8,
     "metadata": {},
     "output_type": "execute_result"
    }
   ],
   "source": [
    "images.shape"
   ]
  },
  {
   "cell_type": "code",
   "execution_count": 9,
   "metadata": {},
   "outputs": [],
   "source": [
    "from sklearn.decomposition import PCA"
   ]
  },
  {
   "cell_type": "code",
   "execution_count": 11,
   "metadata": {},
   "outputs": [],
   "source": [
    "pca = PCA(n_components=50)"
   ]
  },
  {
   "cell_type": "code",
   "execution_count": 12,
   "metadata": {},
   "outputs": [],
   "source": [
    "X = pca.fit_transform(images)"
   ]
  },
  {
   "cell_type": "code",
   "execution_count": 13,
   "metadata": {},
   "outputs": [],
   "source": [
    "y = [ categories[i] for i in df.label.values]"
   ]
  },
  {
   "cell_type": "code",
   "execution_count": 14,
   "metadata": {},
   "outputs": [],
   "source": [
    "from sklearn.model_selection import train_test_split\n",
    "\n",
    "X_train, X_test, y_train, y_test = train_test_split( X, y, test_size=0.33, random_state=42)"
   ]
  },
  {
   "cell_type": "code",
   "execution_count": 18,
   "metadata": {},
   "outputs": [
    {
     "data": {
      "text/plain": [
       "RandomForestClassifier(max_depth=20, random_state=0)"
      ]
     },
     "execution_count": 18,
     "metadata": {},
     "output_type": "execute_result"
    }
   ],
   "source": [
    "from sklearn.ensemble import RandomForestClassifier\n",
    "\n",
    "clf = RandomForestClassifier(max_depth=20, random_state=0)\n",
    "clf.fit(X_train, y_train)"
   ]
  },
  {
   "cell_type": "code",
   "execution_count": 15,
   "metadata": {},
   "outputs": [
    {
     "data": {
      "text/plain": [
       "QuadraticDiscriminantAnalysis()"
      ]
     },
     "execution_count": 15,
     "metadata": {},
     "output_type": "execute_result"
    }
   ],
   "source": [
    "from sklearn.discriminant_analysis import QuadraticDiscriminantAnalysis\n",
    "\n",
    "clf = QuadraticDiscriminantAnalysis()\n",
    "clf.fit(X_train, y_train)"
   ]
  },
  {
   "cell_type": "code",
   "execution_count": 19,
   "metadata": {},
   "outputs": [],
   "source": [
    "preds = clf.predict(X_test)"
   ]
  },
  {
   "cell_type": "code",
   "execution_count": 20,
   "metadata": {},
   "outputs": [
    {
     "name": "stdout",
     "output_type": "stream",
     "text": [
      "              precision    recall  f1-score   support\n",
      "\n",
      "           1       0.76      0.67      0.72       123\n",
      "           2       0.80      0.53      0.63       112\n",
      "           3       0.84      0.78      0.81       158\n",
      "           4       0.58      0.42      0.49       110\n",
      "           5       0.67      0.91      0.77       216\n",
      "           6       0.61      0.68      0.64       111\n",
      "           7       0.66      0.66      0.66       228\n",
      "           8       0.68      0.82      0.74       109\n",
      "           9       0.85      0.82      0.84       244\n",
      "          10       0.66      0.82      0.73       230\n",
      "          11       0.78      0.60      0.68       217\n",
      "          12       0.86      0.81      0.83       201\n",
      "\n",
      "    accuracy                           0.73      2059\n",
      "   macro avg       0.73      0.71      0.71      2059\n",
      "weighted avg       0.74      0.73      0.73      2059\n",
      "\n"
     ]
    }
   ],
   "source": [
    "from sklearn.metrics import classification_report\n",
    "\n",
    "print(classification_report(y_test, preds))"
   ]
  },
  {
   "cell_type": "code",
   "execution_count": 24,
   "metadata": {},
   "outputs": [],
   "source": [
    "from glob2 import glob\n",
    "test_data = [ i for i in glob(\"data/test/*\")]"
   ]
  },
  {
   "cell_type": "code",
   "execution_count": 26,
   "metadata": {},
   "outputs": [
    {
     "name": "stdout",
     "output_type": "stream",
     "text": [
      "100\n",
      "200\n",
      "300\n",
      "400\n",
      "500\n",
      "600\n",
      "700\n",
      "800\n",
      "900\n",
      "1000\n",
      "1100\n",
      "1200\n",
      "1300\n",
      "1400\n",
      "1500\n",
      "1600\n",
      "1700\n",
      "1800\n",
      "1900\n",
      "2000\n",
      "2100\n",
      "2200\n",
      "2300\n",
      "2400\n",
      "2500\n",
      "2600\n"
     ]
    }
   ],
   "source": [
    "count = 0\n",
    "images = []\n",
    "for index,row in enumerate(test_data) :\n",
    "    image = cv2.imread(row)\n",
    "    colors = []\n",
    "    for l in [0,1,2] :\n",
    "        ch = image[:,:,l].flatten()\n",
    "        unique, counts = np.unique(ch, return_counts=True)\n",
    "        histo = { i : j for i,j in zip(unique,counts) }\n",
    "        dd =  [ histo[i] if i in histo else 0 for i in np.arange(0,256) ]\n",
    "        colors.extend(dd)\n",
    "    images.append(colors)\n",
    "    count += 1\n",
    "    if count % 100 == 0 :\n",
    "        print(count)"
   ]
  },
  {
   "cell_type": "code",
   "execution_count": 28,
   "metadata": {},
   "outputs": [],
   "source": [
    "X_new = pca.transform(images)"
   ]
  },
  {
   "cell_type": "code",
   "execution_count": 30,
   "metadata": {},
   "outputs": [],
   "source": [
    "predictions = clf.predict(X_new)"
   ]
  },
  {
   "cell_type": "code",
   "execution_count": 34,
   "metadata": {},
   "outputs": [],
   "source": [
    "import os\n",
    "file = [ os.path.basename(i) for i in test_data ]\n",
    "\n",
    "values = [ [i,j] for (i,j) in zip(file,predictions)]"
   ]
  },
  {
   "cell_type": "code",
   "execution_count": 36,
   "metadata": {},
   "outputs": [],
   "source": [
    "df_op = pd.DataFrame(values,columns = ['file_name','color_id'])"
   ]
  },
  {
   "cell_type": "code",
   "execution_count": 37,
   "metadata": {},
   "outputs": [],
   "source": [
    "df_op.to_csv('output_q4.csv',index=False)"
   ]
  },
  {
   "cell_type": "code",
   "execution_count": null,
   "metadata": {},
   "outputs": [],
   "source": []
  }
 ],
 "metadata": {
  "kernelspec": {
   "display_name": "Python 3",
   "language": "python",
   "name": "python3"
  },
  "language_info": {
   "codemirror_mode": {
    "name": "ipython",
    "version": 3
   },
   "file_extension": ".py",
   "mimetype": "text/x-python",
   "name": "python",
   "nbconvert_exporter": "python",
   "pygments_lexer": "ipython3",
   "version": "3.8.2"
  }
 },
 "nbformat": 4,
 "nbformat_minor": 4
}

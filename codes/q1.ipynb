{
  "nbformat": 4,
  "nbformat_minor": 0,
  "metadata": {
    "colab": {
      "name": "Untitled11.ipynb",
      "provenance": [],
      "collapsed_sections": []
    },
    "kernelspec": {
      "name": "python3",
      "display_name": "Python 3"
    },
    "accelerator": "GPU"
  },
  "cells": [
    {
      "cell_type": "code",
      "metadata": {
        "id": "dIRZCI32oH3R",
        "colab_type": "code",
        "colab": {
          "base_uri": "https://localhost:8080/",
          "height": 34
        },
        "outputId": "555e759d-1a8a-428e-e5e3-82da383cbfec"
      },
      "source": [
        "%cd \"/content/drive/My Drive/digikala/q2\""
      ],
      "execution_count": 2,
      "outputs": [
        {
          "output_type": "stream",
          "text": [
            "/content/drive/My Drive/digikala/q2\n"
          ],
          "name": "stdout"
        }
      ]
    },
    {
      "cell_type": "code",
      "metadata": {
        "id": "NOXawW5JoL_D",
        "colab_type": "code",
        "colab": {
          "base_uri": "https://localhost:8080/",
          "height": 506
        },
        "outputId": "3e9ace72-59dd-4fd1-82c9-e1f19025df5f"
      },
      "source": [
        "!pip install sentence-transformers hazm "
      ],
      "execution_count": 3,
      "outputs": [
        {
          "output_type": "stream",
          "text": [
            "Requirement already satisfied: sentence-transformers in /usr/local/lib/python3.6/dist-packages (0.3.6)\n",
            "Requirement already satisfied: hazm in /usr/local/lib/python3.6/dist-packages (0.7.0)\n",
            "Requirement already satisfied: numpy in /usr/local/lib/python3.6/dist-packages (from sentence-transformers) (1.18.5)\n",
            "Requirement already satisfied: torch>=1.2.0 in /usr/local/lib/python3.6/dist-packages (from sentence-transformers) (1.6.0+cu101)\n",
            "Requirement already satisfied: tqdm in /usr/local/lib/python3.6/dist-packages (from sentence-transformers) (4.41.1)\n",
            "Requirement already satisfied: scikit-learn in /usr/local/lib/python3.6/dist-packages (from sentence-transformers) (0.22.2.post1)\n",
            "Requirement already satisfied: nltk in /usr/local/lib/python3.6/dist-packages (from sentence-transformers) (3.2.5)\n",
            "Requirement already satisfied: transformers<3.2.0,>=3.1.0 in /usr/local/lib/python3.6/dist-packages (from sentence-transformers) (3.1.0)\n",
            "Requirement already satisfied: scipy in /usr/local/lib/python3.6/dist-packages (from sentence-transformers) (1.4.1)\n",
            "Requirement already satisfied: libwapiti>=0.2.1; platform_system != \"Windows\" in /usr/local/lib/python3.6/dist-packages (from hazm) (0.2.1)\n",
            "Requirement already satisfied: future in /usr/local/lib/python3.6/dist-packages (from torch>=1.2.0->sentence-transformers) (0.16.0)\n",
            "Requirement already satisfied: joblib>=0.11 in /usr/local/lib/python3.6/dist-packages (from scikit-learn->sentence-transformers) (0.16.0)\n",
            "Requirement already satisfied: six in /usr/local/lib/python3.6/dist-packages (from nltk->sentence-transformers) (1.15.0)\n",
            "Requirement already satisfied: dataclasses; python_version < \"3.7\" in /usr/local/lib/python3.6/dist-packages (from transformers<3.2.0,>=3.1.0->sentence-transformers) (0.7)\n",
            "Requirement already satisfied: tokenizers==0.8.1.rc2 in /usr/local/lib/python3.6/dist-packages (from transformers<3.2.0,>=3.1.0->sentence-transformers) (0.8.1rc2)\n",
            "Requirement already satisfied: sentencepiece!=0.1.92 in /usr/local/lib/python3.6/dist-packages (from transformers<3.2.0,>=3.1.0->sentence-transformers) (0.1.91)\n",
            "Requirement already satisfied: requests in /usr/local/lib/python3.6/dist-packages (from transformers<3.2.0,>=3.1.0->sentence-transformers) (2.23.0)\n",
            "Requirement already satisfied: regex!=2019.12.17 in /usr/local/lib/python3.6/dist-packages (from transformers<3.2.0,>=3.1.0->sentence-transformers) (2019.12.20)\n",
            "Requirement already satisfied: packaging in /usr/local/lib/python3.6/dist-packages (from transformers<3.2.0,>=3.1.0->sentence-transformers) (20.4)\n",
            "Requirement already satisfied: sacremoses in /usr/local/lib/python3.6/dist-packages (from transformers<3.2.0,>=3.1.0->sentence-transformers) (0.0.43)\n",
            "Requirement already satisfied: filelock in /usr/local/lib/python3.6/dist-packages (from transformers<3.2.0,>=3.1.0->sentence-transformers) (3.0.12)\n",
            "Requirement already satisfied: urllib3!=1.25.0,!=1.25.1,<1.26,>=1.21.1 in /usr/local/lib/python3.6/dist-packages (from requests->transformers<3.2.0,>=3.1.0->sentence-transformers) (1.24.3)\n",
            "Requirement already satisfied: chardet<4,>=3.0.2 in /usr/local/lib/python3.6/dist-packages (from requests->transformers<3.2.0,>=3.1.0->sentence-transformers) (3.0.4)\n",
            "Requirement already satisfied: idna<3,>=2.5 in /usr/local/lib/python3.6/dist-packages (from requests->transformers<3.2.0,>=3.1.0->sentence-transformers) (2.10)\n",
            "Requirement already satisfied: certifi>=2017.4.17 in /usr/local/lib/python3.6/dist-packages (from requests->transformers<3.2.0,>=3.1.0->sentence-transformers) (2020.6.20)\n",
            "Requirement already satisfied: pyparsing>=2.0.2 in /usr/local/lib/python3.6/dist-packages (from packaging->transformers<3.2.0,>=3.1.0->sentence-transformers) (2.4.7)\n",
            "Requirement already satisfied: click in /usr/local/lib/python3.6/dist-packages (from sacremoses->transformers<3.2.0,>=3.1.0->sentence-transformers) (7.1.2)\n"
          ],
          "name": "stdout"
        }
      ]
    },
    {
      "cell_type": "code",
      "metadata": {
        "id": "8x1oL8ojn4ho",
        "colab_type": "code",
        "colab": {}
      },
      "source": [
        "import numpy as np # linear algebra\n",
        "import pandas as pd # data processing, CSV file I/O (e.g. pd.read_csv)\n",
        "import matplotlib.pyplot as plt\n",
        "from sklearn.model_selection import train_test_split\n",
        "\n",
        "import xgboost as xgb\n",
        "\n",
        "import pandas as pd\n",
        "import re\n",
        "from nltk.tokenize import RegexpTokenizer\n",
        "\n",
        "from spacy.lang.fa import stop_words\n",
        "\n",
        "from sklearn.feature_extraction.text import TfidfVectorizer, CountVectorizer, TfidfTransformer\n",
        "from hazm import word_tokenize, stopwords_list\n",
        "from sklearn.ensemble import RandomForestClassifier\n",
        "from sklearn.metrics import (accuracy_score, recall_score, confusion_matrix, f1_score, \n",
        "                             roc_auc_score, classification_report)\n",
        "\n",
        "from sklearn.ensemble import StackingRegressor\n",
        "from sklearn.ensemble import RandomForestRegressor\n",
        "\n",
        "from sklearn.ensemble import RandomForestClassifier\n",
        "\n",
        "from hazm import stopwords_list\n",
        "\n",
        "from sklearn.pipeline import Pipeline\n",
        "# Avoiding warnings\n",
        "import warnings\n",
        "import os\n",
        "########### Prevent Warnings ###########\n",
        "warnings.filterwarnings(action='ignore')\n",
        "########### Prevent Warnings ###########"
      ],
      "execution_count": 4,
      "outputs": []
    },
    {
      "cell_type": "code",
      "metadata": {
        "id": "bMdgd-Jrn_Fa",
        "colab_type": "code",
        "colab": {}
      },
      "source": [
        "df_train = pd.read_csv(\"data/train_users.csv\")\n",
        "df_test = pd.read_csv(\"data/test_users.csv\")\n",
        "\n",
        "df_train['type'] = \"train\"\n",
        "df_test['type'] = \"test\"\n",
        "\n",
        "df = pd.concat([df_train,df_test], ignore_index=True, sort=False)\n",
        "\n",
        "df['title_fa_product'] = df['title_fa_product'].astype('category')\n",
        "df['title_fa_category'] = df['title_fa_category'].astype('category')\n",
        "\n",
        "\n",
        "df['title_fa_product'] = pd.factorize( df['title_fa_product'].values )[0]\n",
        "df['title_fa_category'] = pd.factorize( df['title_fa_category'].values )[0]"
      ],
      "execution_count": 50,
      "outputs": []
    },
    {
      "cell_type": "code",
      "metadata": {
        "id": "uyK9wN2SoBXs",
        "colab_type": "code",
        "colab": {
          "base_uri": "https://localhost:8080/",
          "height": 293
        },
        "outputId": "15b214cf-5171-42a7-9cd4-ac1ec491e4c7"
      },
      "source": [
        "df.head()"
      ],
      "execution_count": 6,
      "outputs": [
        {
          "output_type": "execute_result",
          "data": {
            "text/html": [
              "<div>\n",
              "<style scoped>\n",
              "    .dataframe tbody tr th:only-of-type {\n",
              "        vertical-align: middle;\n",
              "    }\n",
              "\n",
              "    .dataframe tbody tr th {\n",
              "        vertical-align: top;\n",
              "    }\n",
              "\n",
              "    .dataframe thead th {\n",
              "        text-align: right;\n",
              "    }\n",
              "</style>\n",
              "<table border=\"1\" class=\"dataframe\">\n",
              "  <thead>\n",
              "    <tr style=\"text-align: right;\">\n",
              "      <th></th>\n",
              "      <th>id</th>\n",
              "      <th>title</th>\n",
              "      <th>comment</th>\n",
              "      <th>advantages</th>\n",
              "      <th>disadvantages</th>\n",
              "      <th>title_fa_product</th>\n",
              "      <th>title_fa_category</th>\n",
              "      <th>is_buyer</th>\n",
              "      <th>verification_status</th>\n",
              "      <th>rate</th>\n",
              "      <th>type</th>\n",
              "    </tr>\n",
              "  </thead>\n",
              "  <tbody>\n",
              "    <tr>\n",
              "      <th>0</th>\n",
              "      <td>0</td>\n",
              "      <td>NaN</td>\n",
              "      <td>مثل بقیه محصولات الکل دار پوست رو خشک نمیکنه</td>\n",
              "      <td>NaN</td>\n",
              "      <td>NaN</td>\n",
              "      <td>0</td>\n",
              "      <td>0</td>\n",
              "      <td>1</td>\n",
              "      <td>1.0</td>\n",
              "      <td>100.0</td>\n",
              "      <td>train</td>\n",
              "    </tr>\n",
              "    <tr>\n",
              "      <th>1</th>\n",
              "      <td>1</td>\n",
              "      <td>Redmi 8</td>\n",
              "      <td>با این مبلغ اگه امکانات و ارزش خرید واستون مهم...</td>\n",
              "      <td>[\"رم4\\r\",\"قیمت نسبت به سایر برندها\\r\",\"طراحی و...</td>\n",
              "      <td>[\"نداشتن هندزفری\"]</td>\n",
              "      <td>1</td>\n",
              "      <td>1</td>\n",
              "      <td>1</td>\n",
              "      <td>1.0</td>\n",
              "      <td>80.0</td>\n",
              "      <td>train</td>\n",
              "    </tr>\n",
              "    <tr>\n",
              "      <th>2</th>\n",
              "      <td>2</td>\n",
              "      <td>عالی</td>\n",
              "      <td>خوبه فقط کج و کوله بدستم رسید ولی پسرم خیلی خو...</td>\n",
              "      <td>NaN</td>\n",
              "      <td>NaN</td>\n",
              "      <td>2</td>\n",
              "      <td>2</td>\n",
              "      <td>1</td>\n",
              "      <td>1.0</td>\n",
              "      <td>100.0</td>\n",
              "      <td>train</td>\n",
              "    </tr>\n",
              "    <tr>\n",
              "      <th>3</th>\n",
              "      <td>3</td>\n",
              "      <td>NaN</td>\n",
              "      <td>در کل خوب بود ولی متاسفانه درب محصول شکسته بود...</td>\n",
              "      <td>NaN</td>\n",
              "      <td>NaN</td>\n",
              "      <td>3</td>\n",
              "      <td>3</td>\n",
              "      <td>1</td>\n",
              "      <td>1.0</td>\n",
              "      <td>70.0</td>\n",
              "      <td>train</td>\n",
              "    </tr>\n",
              "    <tr>\n",
              "      <th>4</th>\n",
              "      <td>4</td>\n",
              "      <td>NaN</td>\n",
              "      <td>من که خیلی باهاش حال کردم فقط من که همیشه L می...</td>\n",
              "      <td>NaN</td>\n",
              "      <td>NaN</td>\n",
              "      <td>4</td>\n",
              "      <td>4</td>\n",
              "      <td>1</td>\n",
              "      <td>1.0</td>\n",
              "      <td>72.0</td>\n",
              "      <td>train</td>\n",
              "    </tr>\n",
              "  </tbody>\n",
              "</table>\n",
              "</div>"
            ],
            "text/plain": [
              "   id    title  ...   rate   type\n",
              "0   0      NaN  ...  100.0  train\n",
              "1   1  Redmi 8  ...   80.0  train\n",
              "2   2     عالی  ...  100.0  train\n",
              "3   3      NaN  ...   70.0  train\n",
              "4   4      NaN  ...   72.0  train\n",
              "\n",
              "[5 rows x 11 columns]"
            ]
          },
          "metadata": {
            "tags": []
          },
          "execution_count": 6
        }
      ]
    },
    {
      "cell_type": "code",
      "metadata": {
        "id": "xana17nYoDGm",
        "colab_type": "code",
        "colab": {}
      },
      "source": [
        "df.fillna(\" \",inplace=True)\n",
        "\n",
        "df['title'] = df['title'].astype(str)\n",
        "df['comment'] = df['comment'].astype(str)\n",
        "df['advantages'] = df['advantages'].astype(str)\n",
        "df['disadvantages'] = df['disadvantages'].astype(str)"
      ],
      "execution_count": 7,
      "outputs": []
    },
    {
      "cell_type": "code",
      "metadata": {
        "id": "9toJpXTmoE5Z",
        "colab_type": "code",
        "colab": {}
      },
      "source": [
        "def preprocess(text):\n",
        "    pattern = r'[\\u0600-\\u06FF\\u0698\\u067E\\u0686\\u06AF]+'\n",
        "    tokenizer = RegexpTokenizer(pattern)\n",
        "    text = tokenizer.tokenize(text)\n",
        "    text = set(text)\n",
        "    text = ' '.join(text)\n",
        "    return text"
      ],
      "execution_count": 8,
      "outputs": []
    },
    {
      "cell_type": "code",
      "metadata": {
        "id": "nFMbbO85oGhM",
        "colab_type": "code",
        "colab": {}
      },
      "source": [
        "df['title'] = df['title'].apply(lambda x : preprocess(x))\n",
        "df['comment'] = df['comment'].apply(lambda x : preprocess(x))\n",
        "df['advantages'] = df['advantages'].apply(lambda x : preprocess(x))\n",
        "df['disadvantages'] = df['disadvantages'].apply(lambda x : preprocess(x))"
      ],
      "execution_count": 9,
      "outputs": []
    },
    {
      "cell_type": "code",
      "metadata": {
        "id": "t-SYz4wPuIYj",
        "colab_type": "code",
        "colab": {}
      },
      "source": [
        "df['text'] = df['title'] + \" . \" + df['comment'] + \" . \" + df['advantages'] + \" . \" + df['disadvantages'] "
      ],
      "execution_count": 10,
      "outputs": []
    },
    {
      "cell_type": "code",
      "metadata": {
        "id": "VD3x225HuId4",
        "colab_type": "code",
        "colab": {}
      },
      "source": [
        "df.drop(['title','comment','advantages','disadvantages'],axis=1,inplace=True)"
      ],
      "execution_count": 11,
      "outputs": []
    },
    {
      "cell_type": "code",
      "metadata": {
        "id": "rWOfmXOo1FYL",
        "colab_type": "code",
        "colab": {}
      },
      "source": [
        "df['words_count'] = df.apply(lambda x : len(word_tokenize(x['text'])),axis=1)"
      ],
      "execution_count": 12,
      "outputs": []
    },
    {
      "cell_type": "code",
      "metadata": {
        "id": "ZsOOBVCmuIWi",
        "colab_type": "code",
        "colab": {
          "base_uri": "https://localhost:8080/",
          "height": 206
        },
        "outputId": "ab79866d-fc35-4e4a-bae2-106ec6f3f482"
      },
      "source": [
        "df.head()"
      ],
      "execution_count": 13,
      "outputs": [
        {
          "output_type": "execute_result",
          "data": {
            "text/html": [
              "<div>\n",
              "<style scoped>\n",
              "    .dataframe tbody tr th:only-of-type {\n",
              "        vertical-align: middle;\n",
              "    }\n",
              "\n",
              "    .dataframe tbody tr th {\n",
              "        vertical-align: top;\n",
              "    }\n",
              "\n",
              "    .dataframe thead th {\n",
              "        text-align: right;\n",
              "    }\n",
              "</style>\n",
              "<table border=\"1\" class=\"dataframe\">\n",
              "  <thead>\n",
              "    <tr style=\"text-align: right;\">\n",
              "      <th></th>\n",
              "      <th>id</th>\n",
              "      <th>title_fa_product</th>\n",
              "      <th>title_fa_category</th>\n",
              "      <th>is_buyer</th>\n",
              "      <th>verification_status</th>\n",
              "      <th>rate</th>\n",
              "      <th>type</th>\n",
              "      <th>text</th>\n",
              "      <th>words_count</th>\n",
              "    </tr>\n",
              "  </thead>\n",
              "  <tbody>\n",
              "    <tr>\n",
              "      <th>0</th>\n",
              "      <td>0</td>\n",
              "      <td>0</td>\n",
              "      <td>0</td>\n",
              "      <td>1</td>\n",
              "      <td>1</td>\n",
              "      <td>100</td>\n",
              "      <td>train</td>\n",
              "      <td>. الکل دار رو بقیه نمیکنه خشک پوست مثل محصولا...</td>\n",
              "      <td>12</td>\n",
              "    </tr>\n",
              "    <tr>\n",
              "      <th>1</th>\n",
              "      <td>1</td>\n",
              "      <td>1</td>\n",
              "      <td>1</td>\n",
              "      <td>1</td>\n",
              "      <td>1</td>\n",
              "      <td>80</td>\n",
              "      <td>train</td>\n",
              "      <td>. بیخودی برند واستون ارزش امکانات مبلغ گوشی م...</td>\n",
              "      <td>42</td>\n",
              "    </tr>\n",
              "    <tr>\n",
              "      <th>2</th>\n",
              "      <td>2</td>\n",
              "      <td>2</td>\n",
              "      <td>2</td>\n",
              "      <td>1</td>\n",
              "      <td>1</td>\n",
              "      <td>100</td>\n",
              "      <td>train</td>\n",
              "      <td>عالی . شد بیشتر خیلی بسته توجه پسرم رسید کوله ...</td>\n",
              "      <td>23</td>\n",
              "    </tr>\n",
              "    <tr>\n",
              "      <th>3</th>\n",
              "      <td>3</td>\n",
              "      <td>3</td>\n",
              "      <td>3</td>\n",
              "      <td>1</td>\n",
              "      <td>1</td>\n",
              "      <td>70</td>\n",
              "      <td>train</td>\n",
              "      <td>. متاسفانه شکسته بسته بود مقداریش شده و خوب م...</td>\n",
              "      <td>18</td>\n",
              "    </tr>\n",
              "    <tr>\n",
              "      <th>4</th>\n",
              "      <td>4</td>\n",
              "      <td>4</td>\n",
              "      <td>4</td>\n",
              "      <td>1</td>\n",
              "      <td>1</td>\n",
              "      <td>72</td>\n",
              "      <td>train</td>\n",
              "      <td>. کردم گرفتم میپوشیدم لانگه اندازه خیلی حال ک...</td>\n",
              "      <td>20</td>\n",
              "    </tr>\n",
              "  </tbody>\n",
              "</table>\n",
              "</div>"
            ],
            "text/plain": [
              "   id  ...  words_count\n",
              "0   0  ...           12\n",
              "1   1  ...           42\n",
              "2   2  ...           23\n",
              "3   3  ...           18\n",
              "4   4  ...           20\n",
              "\n",
              "[5 rows x 9 columns]"
            ]
          },
          "metadata": {
            "tags": []
          },
          "execution_count": 13
        }
      ]
    },
    {
      "cell_type": "code",
      "metadata": {
        "id": "9JWtIOXd9xBs",
        "colab_type": "code",
        "colab": {}
      },
      "source": [
        "columns = ['title_fa_product','title_fa_category','is_buyer','rate','words_count']\n",
        "\n",
        "for i in columns :\n",
        "    df = pd.concat([df,pd.get_dummies(df[i], prefix=i)],axis=1)\n",
        "    df.drop([i],axis=1, inplace=True)"
      ],
      "execution_count": 14,
      "outputs": []
    },
    {
      "cell_type": "code",
      "metadata": {
        "id": "fLulrjkydwb6",
        "colab_type": "code",
        "colab": {}
      },
      "source": [
        "X_train , y_train = df[df['type'] == 'train']['text'].values , df[df['type'] == 'train']['verification_status'].values\n",
        "X_test = df[df['type'] == 'test']['text'].values"
      ],
      "execution_count": 15,
      "outputs": []
    },
    {
      "cell_type": "code",
      "metadata": {
        "id": "bLW_F1fod2f-",
        "colab_type": "code",
        "colab": {}
      },
      "source": [
        "swdl = stopwords_list()\n",
        "tfidf = TfidfVectorizer(tokenizer=word_tokenize,ngram_range=(1,2),stop_words=swdl,max_df=0.98,min_df=0.0008)\n",
        "\n",
        "X_train_vector = tfidf.fit_transform(X_train)\n",
        "X_test_vector = tfidf.transform(X_test)"
      ],
      "execution_count": 16,
      "outputs": []
    },
    {
      "cell_type": "code",
      "metadata": {
        "id": "04nZJ8Z3_yzy",
        "colab_type": "code",
        "colab": {}
      },
      "source": [
        "from scipy.sparse import csr_matrix , hstack , vstack"
      ],
      "execution_count": 22,
      "outputs": []
    },
    {
      "cell_type": "code",
      "metadata": {
        "id": "bbCnXUhX9xGK",
        "colab_type": "code",
        "colab": {}
      },
      "source": [
        ""
      ],
      "execution_count": 17,
      "outputs": []
    },
    {
      "cell_type": "code",
      "metadata": {
        "id": "blaTH_I8_5oo",
        "colab_type": "code",
        "colab": {}
      },
      "source": [
        "X_train_features = df[df['type'] == 'train'].drop(['verification_status','id','type','text'],axis=1)\n",
        "X_train_features = csr_matrix(X_train_features)\n",
        "X_train_combined = hstack((X_train_vector,X_train_features))"
      ],
      "execution_count": 20,
      "outputs": []
    },
    {
      "cell_type": "code",
      "metadata": {
        "id": "UDuptZmx_V1L",
        "colab_type": "code",
        "colab": {}
      },
      "source": [
        "X_test_features = df[df['type'] == 'test'].drop(['verification_status','id','type','text'],axis=1)\n",
        "X_test_features = csr_matrix(X_test_features)\n",
        "X_test_combined = hstack((X_test_vector,X_test_features))"
      ],
      "execution_count": 18,
      "outputs": []
    },
    {
      "cell_type": "code",
      "metadata": {
        "id": "n1oHEP84_9lu",
        "colab_type": "code",
        "colab": {}
      },
      "source": [
        "y_train = df[df['type'] == 'train']['rate'].values"
      ],
      "execution_count": 51,
      "outputs": []
    },
    {
      "cell_type": "code",
      "metadata": {
        "id": "ifFRGMvCBKA1",
        "colab_type": "code",
        "colab": {}
      },
      "source": [
        "rf = RandomForestRegressor(max_depth=10, random_state=42)\n",
        "rf.fit(X_train_combined, y_train.tolist())\n",
        "y_pred = rf.predict(X_test_combined)"
      ],
      "execution_count": 52,
      "outputs": []
    },
    {
      "cell_type": "code",
      "metadata": {
        "id": "Dc1v0kjeCrQs",
        "colab_type": "code",
        "colab": {
          "base_uri": "https://localhost:8080/",
          "height": 34
        },
        "outputId": "e974001b-09b8-4a9a-ad71-0dabf06f4711"
      },
      "source": [
        "y_train"
      ],
      "execution_count": 44,
      "outputs": [
        {
          "output_type": "execute_result",
          "data": {
            "text/plain": [
              "array([0.0, 1.0], dtype=object)"
            ]
          },
          "metadata": {
            "tags": []
          },
          "execution_count": 44
        }
      ]
    },
    {
      "cell_type": "code",
      "metadata": {
        "id": "GEBW43f5fpkr",
        "colab_type": "code",
        "colab": {}
      },
      "source": [
        "submission = pd.DataFrame({'id' : df[df['type'] == 'test']['id'].values.tolist() , 'rate':y_pred})"
      ],
      "execution_count": 53,
      "outputs": []
    },
    {
      "cell_type": "code",
      "metadata": {
        "id": "vjYvaqtjnsmF",
        "colab_type": "code",
        "colab": {}
      },
      "source": [
        "submission.to_csv('output_q3_14.csv',index=False)"
      ],
      "execution_count": 54,
      "outputs": []
    },
    {
      "cell_type": "code",
      "metadata": {
        "id": "0LvuUhHDCEN7",
        "colab_type": "code",
        "colab": {}
      },
      "source": [
        ""
      ],
      "execution_count": null,
      "outputs": []
    }
  ]
}
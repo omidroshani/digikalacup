{
  "nbformat": 4,
  "nbformat_minor": 0,
  "metadata": {
    "colab": {
      "name": "Untitled14.ipynb",
      "provenance": [],
      "collapsed_sections": []
    },
    "kernelspec": {
      "name": "python3",
      "display_name": "Python 3"
    },
    "accelerator": "GPU"
  },
  "cells": [
    {
      "cell_type": "code",
      "metadata": {
        "id": "_jZDEuO4IvNJ",
        "colab_type": "code",
        "colab": {
          "base_uri": "https://localhost:8080/",
          "height": 34
        },
        "outputId": "98c66e6c-cecb-42a6-cc1f-f39e95d57707"
      },
      "source": [
        "%cd \"/content/drive/My Drive/digikala/q4\""
      ],
      "execution_count": 3,
      "outputs": [
        {
          "output_type": "stream",
          "text": [
            "/content/drive/My Drive/digikala/q4\n"
          ],
          "name": "stdout"
        }
      ]
    },
    {
      "cell_type": "code",
      "metadata": {
        "id": "VTSlZnSnI5XW",
        "colab_type": "code",
        "colab": {}
      },
      "source": [
        "from fastai.imports import *\n",
        "from fastai.vision import *\n",
        "from fastai.metrics import error_rate"
      ],
      "execution_count": 7,
      "outputs": []
    },
    {
      "cell_type": "code",
      "metadata": {
        "id": "eLqI7e9jJD8B",
        "colab_type": "code",
        "colab": {
          "base_uri": "https://localhost:8080/",
          "height": 225
        },
        "outputId": "40d4d5f3-ed24-4ce8-d95e-f2ed46eb9722"
      },
      "source": [
        "data = ImageDataBunch.from_folder(\"data/train\", ds_tfms=get_transforms(), size=224, valid_pct = 0.20)\n",
        "data.classes"
      ],
      "execution_count": 36,
      "outputs": [
        {
          "output_type": "execute_result",
          "data": {
            "text/plain": [
              "['black',\n",
              " 'blue',\n",
              " 'brown',\n",
              " 'green',\n",
              " 'grey',\n",
              " 'orange',\n",
              " 'pink',\n",
              " 'purple',\n",
              " 'red',\n",
              " 'silver',\n",
              " 'white',\n",
              " 'yellow']"
            ]
          },
          "metadata": {
            "tags": []
          },
          "execution_count": 36
        }
      ]
    },
    {
      "cell_type": "code",
      "metadata": {
        "id": "mWrN4auaJpzo",
        "colab_type": "code",
        "colab": {}
      },
      "source": [
        "learn = cnn_learner(data, models.resnet50,pretrained=True, metrics=accuracy)"
      ],
      "execution_count": 37,
      "outputs": []
    },
    {
      "cell_type": "code",
      "metadata": {
        "id": "zJNAZ7eiJtt2",
        "colab_type": "code",
        "colab": {
          "base_uri": "https://localhost:8080/",
          "height": 677
        },
        "outputId": "f44f5c27-3da2-4fae-ba52-3acfc40de825"
      },
      "source": [
        "learn.fit_one_cycle(20)"
      ],
      "execution_count": 38,
      "outputs": [
        {
          "output_type": "display_data",
          "data": {
            "text/html": [
              "<table border=\"1\" class=\"dataframe\">\n",
              "  <thead>\n",
              "    <tr style=\"text-align: left;\">\n",
              "      <th>epoch</th>\n",
              "      <th>train_loss</th>\n",
              "      <th>valid_loss</th>\n",
              "      <th>accuracy</th>\n",
              "      <th>time</th>\n",
              "    </tr>\n",
              "  </thead>\n",
              "  <tbody>\n",
              "    <tr>\n",
              "      <td>0</td>\n",
              "      <td>1.889614</td>\n",
              "      <td>1.040181</td>\n",
              "      <td>0.695269</td>\n",
              "      <td>00:56</td>\n",
              "    </tr>\n",
              "    <tr>\n",
              "      <td>1</td>\n",
              "      <td>1.349407</td>\n",
              "      <td>1.012303</td>\n",
              "      <td>0.720930</td>\n",
              "      <td>00:56</td>\n",
              "    </tr>\n",
              "    <tr>\n",
              "      <td>2</td>\n",
              "      <td>1.158213</td>\n",
              "      <td>0.945241</td>\n",
              "      <td>0.724138</td>\n",
              "      <td>00:56</td>\n",
              "    </tr>\n",
              "    <tr>\n",
              "      <td>3</td>\n",
              "      <td>0.966150</td>\n",
              "      <td>0.819184</td>\n",
              "      <td>0.769848</td>\n",
              "      <td>00:57</td>\n",
              "    </tr>\n",
              "    <tr>\n",
              "      <td>4</td>\n",
              "      <td>0.871205</td>\n",
              "      <td>0.822401</td>\n",
              "      <td>0.751403</td>\n",
              "      <td>00:56</td>\n",
              "    </tr>\n",
              "    <tr>\n",
              "      <td>5</td>\n",
              "      <td>0.780362</td>\n",
              "      <td>0.796969</td>\n",
              "      <td>0.773055</td>\n",
              "      <td>00:57</td>\n",
              "    </tr>\n",
              "    <tr>\n",
              "      <td>6</td>\n",
              "      <td>0.739370</td>\n",
              "      <td>0.669820</td>\n",
              "      <td>0.792302</td>\n",
              "      <td>00:57</td>\n",
              "    </tr>\n",
              "    <tr>\n",
              "      <td>7</td>\n",
              "      <td>0.655284</td>\n",
              "      <td>0.640585</td>\n",
              "      <td>0.799519</td>\n",
              "      <td>00:56</td>\n",
              "    </tr>\n",
              "    <tr>\n",
              "      <td>8</td>\n",
              "      <td>0.597613</td>\n",
              "      <td>0.672241</td>\n",
              "      <td>0.787490</td>\n",
              "      <td>00:56</td>\n",
              "    </tr>\n",
              "    <tr>\n",
              "      <td>9</td>\n",
              "      <td>0.541352</td>\n",
              "      <td>0.677950</td>\n",
              "      <td>0.797915</td>\n",
              "      <td>00:57</td>\n",
              "    </tr>\n",
              "    <tr>\n",
              "      <td>10</td>\n",
              "      <td>0.495811</td>\n",
              "      <td>0.660570</td>\n",
              "      <td>0.800321</td>\n",
              "      <td>00:56</td>\n",
              "    </tr>\n",
              "    <tr>\n",
              "      <td>11</td>\n",
              "      <td>0.458815</td>\n",
              "      <td>0.670322</td>\n",
              "      <td>0.797915</td>\n",
              "      <td>00:57</td>\n",
              "    </tr>\n",
              "    <tr>\n",
              "      <td>12</td>\n",
              "      <td>0.424785</td>\n",
              "      <td>0.653104</td>\n",
              "      <td>0.808340</td>\n",
              "      <td>00:56</td>\n",
              "    </tr>\n",
              "    <tr>\n",
              "      <td>13</td>\n",
              "      <td>0.373352</td>\n",
              "      <td>0.654504</td>\n",
              "      <td>0.800321</td>\n",
              "      <td>00:56</td>\n",
              "    </tr>\n",
              "    <tr>\n",
              "      <td>14</td>\n",
              "      <td>0.337307</td>\n",
              "      <td>0.657426</td>\n",
              "      <td>0.806736</td>\n",
              "      <td>00:56</td>\n",
              "    </tr>\n",
              "    <tr>\n",
              "      <td>15</td>\n",
              "      <td>0.303748</td>\n",
              "      <td>0.623644</td>\n",
              "      <td>0.820369</td>\n",
              "      <td>00:57</td>\n",
              "    </tr>\n",
              "    <tr>\n",
              "      <td>16</td>\n",
              "      <td>0.281290</td>\n",
              "      <td>0.626932</td>\n",
              "      <td>0.813152</td>\n",
              "      <td>00:56</td>\n",
              "    </tr>\n",
              "    <tr>\n",
              "      <td>17</td>\n",
              "      <td>0.248610</td>\n",
              "      <td>0.641715</td>\n",
              "      <td>0.818765</td>\n",
              "      <td>00:56</td>\n",
              "    </tr>\n",
              "    <tr>\n",
              "      <td>18</td>\n",
              "      <td>0.237638</td>\n",
              "      <td>0.640030</td>\n",
              "      <td>0.811548</td>\n",
              "      <td>00:57</td>\n",
              "    </tr>\n",
              "    <tr>\n",
              "      <td>19</td>\n",
              "      <td>0.231965</td>\n",
              "      <td>0.646927</td>\n",
              "      <td>0.813953</td>\n",
              "      <td>00:57</td>\n",
              "    </tr>\n",
              "  </tbody>\n",
              "</table>"
            ],
            "text/plain": [
              "<IPython.core.display.HTML object>"
            ]
          },
          "metadata": {
            "tags": []
          }
        }
      ]
    },
    {
      "cell_type": "code",
      "metadata": {
        "id": "IAhQVW4jJ91I",
        "colab_type": "code",
        "colab": {
          "base_uri": "https://localhost:8080/",
          "height": 69
        },
        "outputId": "7dac00c3-dbc4-4274-8bfe-e5590a191668"
      },
      "source": [
        "il = ImageList.from_folder(\"/content/drive/My Drive/digikala/q4/data/test\")\n",
        "\n",
        "il"
      ],
      "execution_count": 39,
      "outputs": [
        {
          "output_type": "execute_result",
          "data": {
            "text/plain": [
              "ImageList (2673 items)\n",
              "Image (3, 224, 224),Image (3, 224, 224),Image (3, 224, 224),Image (3, 224, 224),Image (3, 224, 224)\n",
              "Path: /content/drive/My Drive/digikala/q4/data/test"
            ]
          },
          "metadata": {
            "tags": []
          },
          "execution_count": 39
        }
      ]
    },
    {
      "cell_type": "code",
      "metadata": {
        "id": "O9Ulxa2LQ2iF",
        "colab_type": "code",
        "colab": {
          "base_uri": "https://localhost:8080/",
          "height": 469
        },
        "outputId": "08f9bcdd-79d5-4fd7-ea7b-df6329342b73"
      },
      "source": [
        "preds = []\n",
        "count = 0\n",
        "for img in il:\n",
        "    prediction = learn.predict(img)\n",
        "    preds.append(str(prediction[0]))\n",
        "    count += 1\n",
        "    if count % 100 == 0 :\n",
        "        print(count)"
      ],
      "execution_count": 40,
      "outputs": [
        {
          "output_type": "stream",
          "text": [
            "100\n",
            "200\n",
            "300\n",
            "400\n",
            "500\n",
            "600\n",
            "700\n",
            "800\n",
            "900\n",
            "1000\n",
            "1100\n",
            "1200\n",
            "1300\n",
            "1400\n",
            "1500\n",
            "1600\n",
            "1700\n",
            "1800\n",
            "1900\n",
            "2000\n",
            "2100\n",
            "2200\n",
            "2300\n",
            "2400\n",
            "2500\n",
            "2600\n"
          ],
          "name": "stdout"
        }
      ]
    },
    {
      "cell_type": "code",
      "metadata": {
        "id": "bkkJTepFRCi2",
        "colab_type": "code",
        "colab": {
          "base_uri": "https://localhost:8080/",
          "height": 191
        },
        "outputId": "f46ebf36-73f8-4254-c354-f583fa40867b"
      },
      "source": [
        "preds[:10]"
      ],
      "execution_count": 41,
      "outputs": [
        {
          "output_type": "execute_result",
          "data": {
            "text/plain": [
              "['grey',\n",
              " 'brown',\n",
              " 'white',\n",
              " 'brown',\n",
              " 'pink',\n",
              " 'black',\n",
              " 'white',\n",
              " 'grey',\n",
              " 'red',\n",
              " 'grey']"
            ]
          },
          "metadata": {
            "tags": []
          },
          "execution_count": 41
        }
      ]
    },
    {
      "cell_type": "code",
      "metadata": {
        "id": "caMX9iJvRFrk",
        "colab_type": "code",
        "colab": {}
      },
      "source": [
        "categories =  {'pink' : 1 , 'purple' : 2 , 'yellow' : 3 , 'orange' : 4 , 'white' : 5 , 'silver' : 6 , 'grey' : 7 , 'black' : 8 , 'red' : 9 , 'brown' : 10 , 'green' : 11 , 'blue' : 12 }"
      ],
      "execution_count": 42,
      "outputs": []
    },
    {
      "cell_type": "code",
      "metadata": {
        "id": "mmYe5vzJSh3R",
        "colab_type": "code",
        "colab": {}
      },
      "source": [
        "submission = pd.DataFrame({\"file_name\": os.listdir('data/test'), \"color_id\": [ categories[i] for i in preds]})"
      ],
      "execution_count": 43,
      "outputs": []
    },
    {
      "cell_type": "code",
      "metadata": {
        "id": "cRsEUjOMXUPx",
        "colab_type": "code",
        "colab": {
          "base_uri": "https://localhost:8080/",
          "height": 206
        },
        "outputId": "97d5fa69-3c95-4f08-d243-ac2a674e24e5"
      },
      "source": [
        "submission.head()"
      ],
      "execution_count": 44,
      "outputs": [
        {
          "output_type": "execute_result",
          "data": {
            "text/html": [
              "<div>\n",
              "<style scoped>\n",
              "    .dataframe tbody tr th:only-of-type {\n",
              "        vertical-align: middle;\n",
              "    }\n",
              "\n",
              "    .dataframe tbody tr th {\n",
              "        vertical-align: top;\n",
              "    }\n",
              "\n",
              "    .dataframe thead th {\n",
              "        text-align: right;\n",
              "    }\n",
              "</style>\n",
              "<table border=\"1\" class=\"dataframe\">\n",
              "  <thead>\n",
              "    <tr style=\"text-align: right;\">\n",
              "      <th></th>\n",
              "      <th>file_name</th>\n",
              "      <th>color_id</th>\n",
              "    </tr>\n",
              "  </thead>\n",
              "  <tbody>\n",
              "    <tr>\n",
              "      <th>0</th>\n",
              "      <td>117023205.jpg</td>\n",
              "      <td>7</td>\n",
              "    </tr>\n",
              "    <tr>\n",
              "      <th>1</th>\n",
              "      <td>105518673.jpg</td>\n",
              "      <td>10</td>\n",
              "    </tr>\n",
              "    <tr>\n",
              "      <th>2</th>\n",
              "      <td>117078889.jpg</td>\n",
              "      <td>5</td>\n",
              "    </tr>\n",
              "    <tr>\n",
              "      <th>3</th>\n",
              "      <td>115464528.jpg</td>\n",
              "      <td>10</td>\n",
              "    </tr>\n",
              "    <tr>\n",
              "      <th>4</th>\n",
              "      <td>117091570.jpg</td>\n",
              "      <td>1</td>\n",
              "    </tr>\n",
              "  </tbody>\n",
              "</table>\n",
              "</div>"
            ],
            "text/plain": [
              "       file_name  color_id\n",
              "0  117023205.jpg         7\n",
              "1  105518673.jpg        10\n",
              "2  117078889.jpg         5\n",
              "3  115464528.jpg        10\n",
              "4  117091570.jpg         1"
            ]
          },
          "metadata": {
            "tags": []
          },
          "execution_count": 44
        }
      ]
    },
    {
      "cell_type": "code",
      "metadata": {
        "id": "-JGCYhMDXaNr",
        "colab_type": "code",
        "colab": {}
      },
      "source": [
        "submission.to_csv('output_q4_11.csv',index=False)"
      ],
      "execution_count": 45,
      "outputs": []
    },
    {
      "cell_type": "code",
      "metadata": {
        "id": "wXq8V9NvXhkK",
        "colab_type": "code",
        "colab": {}
      },
      "source": [
        ""
      ],
      "execution_count": null,
      "outputs": []
    }
  ]
}